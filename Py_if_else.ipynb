{
  "nbformat": 4,
  "nbformat_minor": 0,
  "metadata": {
    "colab": {
      "name": "Py-if-else.ipynb",
      "provenance": []
    },
    "kernelspec": {
      "name": "python3",
      "display_name": "Python 3"
    }
  },
  "cells": [
    {
      "cell_type": "markdown",
      "metadata": {
        "id": "4Of3kJVzEtIC"
      },
      "source": [
        "# RETO #1 -  Data Science FEM\r\n"
      ]
    },
    {
      "cell_type": "code",
      "metadata": {
        "colab": {
          "base_uri": "https://localhost:8080/"
        },
        "id": "3VnTgsXoEsEX",
        "outputId": "85f8007d-0086-4e41-cc69-1aa63ab1dbbf"
      },
      "source": [
        "#!/bin/python\r\n",
        "\r\n",
        "import math\r\n",
        "import os\r\n",
        "import random\r\n",
        "import re\r\n",
        "import sys\r\n",
        "\r\n",
        "#if __name__ == '__main__':\r\n",
        "#    n = int(raw_input().strip())\r\n",
        "\r\n",
        "n=24\r\n",
        "if n % 2 == 0:\r\n",
        "    if 2<= n <=5:\r\n",
        "        print(\"Not Weird\")\r\n",
        "    elif 6<= n <=20:\r\n",
        "        print(\"Weird\")\r\n",
        "    elif n> 20:\r\n",
        "        print(\"Not Weird\")\r\n",
        "else:\r\n",
        "    print(\"Weird\")\r\n"
      ],
      "execution_count": null,
      "outputs": [
        {
          "output_type": "stream",
          "text": [
            "Not Weird\n"
          ],
          "name": "stdout"
        }
      ]
    }
  ]
}