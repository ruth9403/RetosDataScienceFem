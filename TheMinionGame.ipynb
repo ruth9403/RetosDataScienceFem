{
  "nbformat": 4,
  "nbformat_minor": 0,
  "metadata": {
    "colab": {
      "name": "TheMinionGame.ipynb",
      "provenance": [],
      "collapsed_sections": []
    },
    "kernelspec": {
      "name": "python3",
      "display_name": "Python 3"
    }
  },
  "cells": [
    {
      "cell_type": "markdown",
      "metadata": {
        "id": "vejx4No8T1Nt"
      },
      "source": [
        "\r\n",
        "# RETO #2 -  Data Science FEM\r\n",
        "THE MINION GAME"
      ]
    },
    {
      "cell_type": "code",
      "metadata": {
        "colab": {
          "base_uri": "https://localhost:8080/"
        },
        "id": "Asu9G_OuTvRH",
        "outputId": "f6f3c99c-466b-4b30-a27b-a860dd7ba6e4"
      },
      "source": [
        "def minion_game(string):\r\n",
        "    # your code goes here\r\n",
        "    vowels = ['A','E','I','O','U']\r\n",
        "    stuart = 0\r\n",
        "    kevin = 0\r\n",
        "    for i in range(0,len(string)):\r\n",
        "        if string[i] in vowels:\r\n",
        "            kevin += len(string)-i\r\n",
        "        else:\r\n",
        "            stuart += len(string)-i\r\n",
        "    \r\n",
        "    if stuart>kevin:\r\n",
        "        print(f'Stuart {stuart}')\r\n",
        "    elif kevin> stuart:\r\n",
        "        print(f'Kevin {kevin}')\r\n",
        "    else:\r\n",
        "        print('Draw')\r\n",
        "\r\n",
        "print(minion_game('BANANA'))"
      ],
      "execution_count": 1,
      "outputs": [
        {
          "output_type": "stream",
          "text": [
            "Stuart 12\n",
            "None\n"
          ],
          "name": "stdout"
        }
      ]
    }
  ]
}